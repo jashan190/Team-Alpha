{
 "cells": [
  {
   "cell_type": "markdown",
   "id": "e9563d52",
   "metadata": {},
   "source": [
    "Import the necessary procedures"
   ]
  },
  {
   "cell_type": "code",
   "execution_count": null,
   "id": "f8037e80-0e3d-4393-a4b9-7ce5eb405e88",
   "metadata": {},
   "outputs": [],
   "source": [
    "from tensorflow.keras.preprocessing.image import ImageDataGenerator"
   ]
  },
  {
   "cell_type": "markdown",
   "id": "2676addb",
   "metadata": {},
   "source": [
    "Please fill the bottom 2 with the appropriate Directory"
   ]
  },
  {
   "cell_type": "code",
   "execution_count": null,
   "id": "4cac5d6a",
   "metadata": {},
   "outputs": [],
   "source": [
    "train_dir=\".\\Team-AlphaFER2013\\test\"  \n",
    "test_dir=\".\\Team-AlphaFER2013\\train\"     "
   ]
  },
  {
   "cell_type": "markdown",
   "id": "0522fe73",
   "metadata": {},
   "source": [
    "Starting to use Keras to generate the shifts in the training data, using it next"
   ]
  },
  {
   "cell_type": "code",
   "execution_count": null,
   "id": "1176a206",
   "metadata": {},
   "outputs": [],
   "source": [
    "train_datagen = ImageDataGenerator(\n",
    "    width_shift_range = 0.1,        \n",
    "    height_shift_range = 0.1,       \n",
    "    horizontal_flip = True,         \n",
    "    rescale = 1./255,               \n",
    "    validation_split = 0.2          # Set aside some amount of data for validation ( Removed or not Removed? TBD)\n",
    ")\n",
    "\n",
    "validation_datagen = ImageDataGenerator(\n",
    "    rescale = 1./255,\n",
    "    validation_split = 0.2\n",
    ")"
   ]
  },
  {
   "cell_type": "markdown",
   "id": "eb094b69",
   "metadata": {},
   "source": [
    "Moving on to calling the appropriate functions"
   ]
  },
  {
   "cell_type": "code",
   "execution_count": null,
   "id": "8cdfb2c0",
   "metadata": {},
   "outputs": [],
   "source": [
    "train_generator = train_datagen.flow_from_directory(\n",
    "    directory = train_dir,           \n",
    "    target_size = (48, 48),          \n",
    "    batch_size = 64,                 \n",
    "    color_mode = \"grayscale\",        \n",
    "    class_mode = \"categorical\",      \n",
    "    subset = \"training\"              \n",
    ")\n",
    "\n",
    "validation_generator = validation_datagen.flow_from_directory(\n",
    "    directory = test_dir,            \n",
    "    target_size = (48, 48),          \n",
    "    batch_size = 64,                 \n",
    "    color_mode = \"grayscale\",        \n",
    "    class_mode = \"categorical\",      \n",
    "    subset = \"validation\"            \n",
    ")"
   ]
  },
  {
   "cell_type": "markdown",
   "id": "8650bc82",
   "metadata": {},
   "source": [
    "This serves to do a few things:\n",
    "- mention the source \n",
    "- standardize a 48x48 size\n",
    "- group them into 64 batches\n",
    "- convert images to grayscale\n",
    "- divide images categorically\n",
    "- Specify which subset is used, validation or categorical"
   ]
  }
 ],
 "metadata": {
  "kernelspec": {
   "display_name": "Python 3 (ipykernel)",
   "language": "python",
   "name": "python3"
  },
  "language_info": {
   "codemirror_mode": {
    "name": "ipython",
    "version": 3
   },
   "file_extension": ".py",
   "mimetype": "text/x-python",
   "name": "python",
   "nbconvert_exporter": "python",
   "pygments_lexer": "ipython3",
   "version": "3.12.3"
  }
 },
 "nbformat": 4,
 "nbformat_minor": 5
}
